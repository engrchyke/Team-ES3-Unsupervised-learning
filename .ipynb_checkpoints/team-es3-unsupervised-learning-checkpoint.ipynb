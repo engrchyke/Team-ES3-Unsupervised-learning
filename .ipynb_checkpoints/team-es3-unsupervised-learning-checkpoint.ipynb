{
 "cells": [
  {
   "cell_type": "code",
   "execution_count": 3,
   "metadata": {
    "execution": {
     "iopub.execute_input": "2022-07-18T11:00:29.078355Z",
     "iopub.status.busy": "2022-07-18T11:00:29.077876Z",
     "iopub.status.idle": "2022-07-18T11:00:47.590055Z",
     "shell.execute_reply": "2022-07-18T11:00:47.588226Z",
     "shell.execute_reply.started": "2022-07-18T11:00:29.078317Z"
    }
   },
   "outputs": [],
   "source": [
    "pip install comet_ml"
   ]
  },
  {
   "cell_type": "code",
   "execution_count": 4,
   "metadata": {
    "execution": {
     "iopub.execute_input": "2022-07-18T11:00:47.593916Z",
     "iopub.status.busy": "2022-07-18T11:00:47.593307Z",
     "iopub.status.idle": "2022-07-18T11:00:50.854783Z",
     "shell.execute_reply": "2022-07-18T11:00:50.853364Z",
     "shell.execute_reply.started": "2022-07-18T11:00:47.593859Z"
    }
   },
   "outputs": [],
   "source": [
    "# Please skip this cell when running the notebook\n",
    "# import comet_ml at the top of your file\n",
    "# import comet_ml at the top of your file\n",
    "from comet_ml import Experiment\n",
    "\n",
    "# Create an experiment with your api key\n",
    "experiment = Experiment(\n",
    "    api_key=\"1wJBkwGmGzfiNzCD8TIHqmW7d\",\n",
    "    project_name=\"team-es3-unsupervised-learning\",\n",
    "    workspace=\"engrchyke\",\n",
    ")"
   ]
  },
  {
   "cell_type": "code",
   "execution_count": 5,
   "metadata": {
    "_cell_guid": "b1076dfc-b9ad-4769-8c92-a6c4dae69d19",
    "_uuid": "8f2839f25d086af736a60e9eeb907d3b93b6e0e5",
    "execution": {
     "iopub.execute_input": "2022-07-18T11:01:06.563463Z",
     "iopub.status.busy": "2022-07-18T11:01:06.562868Z",
     "iopub.status.idle": "2022-07-18T11:01:07.118432Z",
     "shell.execute_reply": "2022-07-18T11:01:07.117342Z",
     "shell.execute_reply.started": "2022-07-18T11:01:06.563413Z"
    }
   },
   "outputs": [],
   "source": [
    "# This Python 3 environment comes with many helpful analytics libraries installed\n",
    "# It is defined by the kaggle/python Docker image: https://github.com/kaggle/docker-python\n",
    "# For example, here's several helpful packages to load\n",
    "\n",
    "import numpy as np # linear algebra\n",
    "import pandas as pd # data processing, CSV file I/O (e.g. pd.read_csv)\n",
    "import seaborn as sns\n",
    "import matplotlib.pyplot as plt\n",
    "import pickle\n",
    "import json\n",
    "import re\n",
    "import squarify\n",
    "\n",
    "\n",
    "# Input data files are available in the read-only \"../input/\" directory\n",
    "# For example, running this (by clicking run or pressing Shift+Enter) will list all files under the input directory\n",
    "\n",
    "import os\n",
    "for dirname, _, filenames in os.walk('/kaggle/input'):\n",
    "    for filename in filenames:\n",
    "        print(os.path.join(dirname, filename))\n",
    "\n",
    "# You can write up to 20GB to the current directory (/kaggle/working/) that gets preserved as output when you create a version using \"Save & Run All\" \n",
    "# You can also write temporary files to /kaggle/temp/, but they won't be saved outside of the current session"
   ]
  },
  {
   "cell_type": "code",
   "execution_count": 6,
   "metadata": {
    "execution": {
     "iopub.execute_input": "2022-07-18T11:01:12.759546Z",
     "iopub.status.busy": "2022-07-18T11:01:12.758816Z",
     "iopub.status.idle": "2022-07-18T11:01:14.684342Z",
     "shell.execute_reply": "2022-07-18T11:01:14.682963Z",
     "shell.execute_reply.started": "2022-07-18T11:01:12.759502Z"
    }
   },
   "outputs": [],
   "source": [
    "import warnings\n",
    "warnings.filterwarnings('ignore')\n",
    "\n",
    "# Data Preprocessing\n",
    "import random\n",
    "from time import time\n",
    "\n",
    "from sklearn.manifold import TSNE\n",
    "from sklearn.cluster import KMeans\n",
    "from sklearn.decomposition import PCA\n",
    "from mpl_toolkits.mplot3d import Axes3D\n",
    "from matplotlib.ticker import NullFormatter\n",
    "from sklearn.preprocessing import StandardScaler, MinMaxScaler\n",
    "from plotly.offline import download_plotlyjs, init_notebook_mode, plot, iplot\n",
    "init_notebook_mode(connected=True)\n",
    "from scipy.sparse import csr_matrix\n",
    "from sklearn.feature_extraction.text import TfidfVectorizer\n",
    "from scipy.sparse.linalg import svds\n",
    "\n",
    "\n",
    "# Models\n",
    "from surprise import Reader, Dataset\n",
    "from surprise import SVD,SVDpp, NormalPredictor, BaselineOnly, NMF, SlopeOne, CoClustering\n",
    "from sklearn.metrics.pairwise import cosine_similarity\n",
    "from sklearn.feature_extraction.text import CountVectorizer\n",
    "from surprise.model_selection import cross_validate\n",
    "from sklearn.metrics.pairwise import cosine_similarity\n",
    "from surprise import KNNBasic, KNNWithMeans, KNNWithZScore, KNNBaseline\n",
    "from surprise.model_selection import GridSearchCV, cross_validate, train_test_split\n",
    "\n",
    "# Performance Evaluation\n",
    "from surprise import accuracy\n",
    "from sklearn.metrics import mean_squared_error\n",
    "from surprise.accuracy import rmse\n",
    "\n",
    "\n",
    "# Display\n",
    "%matplotlib inline\n",
    "sns.set(font_scale=1)\n",
    "sns.set_style(\"white\")\n",
    "pd.set_option('display.max_columns', 37)\n",
    "\n",
    "\n",
    "from IPython.display import display_html \n",
    "from IPython.core.display import HTML\n",
    "from collections import defaultdict\n",
    "from datetime import datetime\n",
    "\n",
    "        \n",
    "# Visualisation\n",
    "import matplotlib.pyplot as plt \n",
    "sns.set_style(\"darkgrid\")\n",
    "import plotly.offline as py\n",
    "import plotly.express as px\n",
    "import plotly.graph_objects as go\n",
    "from plotly.offline import init_notebook_mode, plot, iplot\n",
    "init_notebook_mode(connected=True)\n",
    "py.init_notebook_mode(connected = True)\n",
    "from wordcloud import WordCloud, STOPWORDS, ImageColorGenerator\n"
   ]
  },
  {
   "cell_type": "code",
   "execution_count": 7,
   "metadata": {
    "execution": {
     "iopub.execute_input": "2022-07-18T11:01:46.360809Z",
     "iopub.status.busy": "2022-07-18T11:01:46.359712Z",
     "iopub.status.idle": "2022-07-18T11:02:06.680566Z",
     "shell.execute_reply": "2022-07-18T11:02:06.679389Z",
     "shell.execute_reply.started": "2022-07-18T11:01:46.360755Z"
    }
   },
   "outputs": [],
   "source": [
    "#Reading all the given data\n",
    "#https://www.kaggle.com/competitions/edsa-movie-recommendation-2022/data?select=genome_scores.csv\n",
    "train = pd.read_csv('/kaggle/input/team-es3/train.csv')\n",
    "test = pd.read_csv('/kaggle/input/team-es3/test.csv')\n",
    "genome_scores = pd.read_csv('/kaggle/input/team-es3/genome_scores.csv')\n",
    "genome_tags = pd.read_csv('/kaggle/input/team-es3/tags.csv')\n",
    "imdb = pd.read_csv('/kaggle/input/team-es3/imdb_data.csv')\n",
    "links = pd.read_csv('/kaggle/input/team-es3/links.csv')\n",
    "movies = pd.read_csv('/kaggle/input/team-es3/movies.csv')\n",
    "tags = pd.read_csv('/kaggle/input/team-es3/tags.csv')"
   ]
  },
  {
   "cell_type": "code",
   "execution_count": 8,
   "metadata": {
    "execution": {
     "iopub.execute_input": "2022-07-18T11:02:06.685784Z",
     "iopub.status.busy": "2022-07-18T11:02:06.684007Z",
     "iopub.status.idle": "2022-07-18T11:02:06.726832Z",
     "shell.execute_reply": "2022-07-18T11:02:06.725549Z",
     "shell.execute_reply.started": "2022-07-18T11:02:06.685730Z"
    }
   },
   "outputs": [],
   "source": [
    "# Declaring a list that contains the names of the dataframes\n",
    "df_list = [train, test, genome_scores, genome_tags, imdb, links, movies, tags]\n",
    "# Create a list of the names of the imported datasets\n",
    "df_names = ['train', 'test', 'genome_scores', 'genome_tags',\n",
    "            'imdb', 'links', 'movies', 'tags']\n",
    "#Zipping the data list and data names together.\n",
    "df_dataset = zip(df_names, df_list)\n",
    "#creating an empty dictionary to get the total number of observations and features available in different dataset.\n",
    "dfs_dict = {}\n",
    "for name, data in df_dataset:\n",
    "    dfs_dict[name] = [data.shape[0], data.shape[1]]\n",
    "    df_prop = pd.DataFrame(dfs_dict,\n",
    "                          index=['rows', 'columns']).T\n",
    "df_prop = df_prop.sort_values(by='rows', ascending=False)\n",
    "\n",
    "#view the final output\n",
    "df_prop  "
   ]
  },
  {
   "cell_type": "code",
   "execution_count": 9,
   "metadata": {
    "execution": {
     "iopub.execute_input": "2022-07-18T11:02:06.729599Z",
     "iopub.status.busy": "2022-07-18T11:02:06.728479Z",
     "iopub.status.idle": "2022-07-18T11:02:06.739239Z",
     "shell.execute_reply": "2022-07-18T11:02:06.737609Z",
     "shell.execute_reply.started": "2022-07-18T11:02:06.729556Z"
    }
   },
   "outputs": [],
   "source": [
    "#A function that displays multiple dataframes in one cell\n",
    "def data_overview_display(dataframe_list,column_names=[]):\n",
    "\n",
    "    html_string = ''\n",
    "    html_string += ('<tr>' + ''.join(f'<td style=\"text-align:center\">{name}</td>' for name in column_names) + '</tr>')\n",
    "    html_string += ('<tr>' + ''.join(f'<td style=\"vertical-align:top\"> {df.to_html(index=True)}</td>' for df in dataframe_list) + '</tr>')\n",
    "    html_string = f'<table>{html_string}</table>'\n",
    "    html_string = html_string.replace('table','table style=\"display:inline\"')\n",
    "    display_html(html_string, raw=True)"
   ]
  },
  {
   "cell_type": "code",
   "execution_count": 10,
   "metadata": {
    "execution": {
     "iopub.execute_input": "2022-07-18T11:02:06.742934Z",
     "iopub.status.busy": "2022-07-18T11:02:06.742389Z",
     "iopub.status.idle": "2022-07-18T11:02:06.760092Z",
     "shell.execute_reply": "2022-07-18T11:02:06.758487Z",
     "shell.execute_reply.started": "2022-07-18T11:02:06.742883Z"
    }
   },
   "outputs": [],
   "source": [
    "#displays the overview of train,test, Links,tags \n",
    "data_overview_display([train.head(),test.head(),links.head(),tags.head()], \n",
    "                      column_names=['Train Dataset','Test Dataset','Links Dataset','Tags Dataset'])"
   ]
  },
  {
   "cell_type": "code",
   "execution_count": 11,
   "metadata": {
    "execution": {
     "iopub.execute_input": "2022-07-18T11:02:06.762004Z",
     "iopub.status.busy": "2022-07-18T11:02:06.761607Z",
     "iopub.status.idle": "2022-07-18T11:02:06.781257Z",
     "shell.execute_reply": "2022-07-18T11:02:06.779862Z",
     "shell.execute_reply.started": "2022-07-18T11:02:06.761972Z"
    }
   },
   "outputs": [],
   "source": [
    "#displays the overview of movies,genome_tags,genome_scores \n",
    "data_overview_display([movies.head(),genome_tags.head(),genome_scores.head()], \n",
    "                      column_names=['Movies ','Genome tags','Genome scores'])"
   ]
  },
  {
   "cell_type": "markdown",
   "metadata": {
    "execution": {
     "iopub.execute_input": "2022-07-16T14:06:44.676927Z",
     "iopub.status.busy": "2022-07-16T14:06:44.675958Z",
     "iopub.status.idle": "2022-07-16T14:06:44.689356Z",
     "shell.execute_reply": "2022-07-16T14:06:44.688167Z",
     "shell.execute_reply.started": "2022-07-16T14:06:44.676870Z"
    }
   },
   "source": [
    "## Data Cleaning"
   ]
  },
  {
   "cell_type": "code",
   "execution_count": 12,
   "metadata": {
    "execution": {
     "iopub.execute_input": "2022-07-18T11:02:35.344818Z",
     "iopub.status.busy": "2022-07-18T11:02:35.343649Z",
     "iopub.status.idle": "2022-07-18T11:02:35.646061Z",
     "shell.execute_reply": "2022-07-18T11:02:35.644402Z",
     "shell.execute_reply.started": "2022-07-18T11:02:35.344767Z"
    }
   },
   "outputs": [],
   "source": [
    "#Create the null-value dataframes of all the given data\n",
    "train_null = pd.DataFrame({\"Null Values\":train.isnull().sum()})\n",
    "test_null = pd.DataFrame({\"Null Values\":test.isnull().sum()})\n",
    "movies_null = pd.DataFrame({\"Null Values\":movies.isnull().sum()})\n",
    "links_null = pd.DataFrame({\"Null Values\":links.isnull().sum()})\n",
    "imdb_null = pd.DataFrame({\"Null Values\":imdb.isnull().sum()})\n",
    "tags_null = pd.DataFrame({\"Null Values\":tags.isnull().sum()})\n",
    "genome_tags_null = pd.DataFrame({\"Null Values\":genome_tags.isnull().sum()})\n",
    "genome_scores_null = pd.DataFrame({\"Null Values\":genome_scores.isnull().sum()})"
   ]
  },
  {
   "cell_type": "code",
   "execution_count": 13,
   "metadata": {
    "execution": {
     "iopub.execute_input": "2022-07-18T11:02:43.631789Z",
     "iopub.status.busy": "2022-07-18T11:02:43.631024Z",
     "iopub.status.idle": "2022-07-18T11:02:43.645158Z",
     "shell.execute_reply": "2022-07-18T11:02:43.644302Z",
     "shell.execute_reply.started": "2022-07-18T11:02:43.631593Z"
    }
   },
   "outputs": [],
   "source": [
    "#Display overview of null values of dataframes\n",
    "data_overview_display([train_null,test_null,movies_null,links_null,genome_scores_null,tags_null,genome_tags_null], column_names=['Train df','Test df','Movies df', 'Links df',\n",
    "                                                                                                                                 'genome scores df','tags df','genome tags'])"
   ]
  },
  {
   "cell_type": "code",
   "execution_count": 14,
   "metadata": {
    "execution": {
     "iopub.execute_input": "2022-07-18T11:02:47.077860Z",
     "iopub.status.busy": "2022-07-18T11:02:47.077390Z",
     "iopub.status.idle": "2022-07-18T11:02:47.088381Z",
     "shell.execute_reply": "2022-07-18T11:02:47.087213Z",
     "shell.execute_reply.started": "2022-07-18T11:02:47.077821Z"
    }
   },
   "outputs": [],
   "source": [
    "#Display overview null value of \"imdb\"\n",
    "data_overview_display([imdb_null], column_names=['imdb df'])"
   ]
  },
  {
   "cell_type": "markdown",
   "metadata": {},
   "source": [
    "**Analysis of imdb_data**\n",
    "\n",
    "The plot below is a visual representation of the different columns in the imdb dataset with their percentage of missing values.\n",
    "There is a high number of movies without budget, director or title cast. Such high proportions of missing data largely disqualifies this particular set from our current modelling task."
   ]
  },
  {
   "cell_type": "code",
   "execution_count": 15,
   "metadata": {
    "execution": {
     "iopub.execute_input": "2022-07-18T11:02:50.620670Z",
     "iopub.status.busy": "2022-07-18T11:02:50.620154Z",
     "iopub.status.idle": "2022-07-18T11:02:50.946968Z",
     "shell.execute_reply": "2022-07-18T11:02:50.945161Z",
     "shell.execute_reply.started": "2022-07-18T11:02:50.620630Z"
    }
   },
   "outputs": [],
   "source": [
    "# The percentage of each column of missing values\n",
    "total = imdb.isnull().sum().sort_values(ascending=False)\n",
    "percent_1 = (imdb.isnull().sum()/imdb.isnull().count())*100\n",
    "percent_2 = (round(percent_1, 1)).sort_values(ascending=False)\n",
    "missing_data = pd.concat([total, percent_2],\n",
    "                         axis=1, keys=['Total', '(%) missing'])\n",
    "missing_data['(%) missing'].plot(kind='bar')\n",
    "plt.xlabel('(%) Missing Values')\n",
    "plt.ylabel('Columns with Missing Values')\n",
    "plt.title('Percentage of Missing Values per Column')\n",
    "plt.show()"
   ]
  },
  {
   "cell_type": "markdown",
   "metadata": {},
   "source": [
    "From the above graph, it is observed that the budget column has the highest number of missing values of over 70% and the movieId column having no missing value, this could be as a result of the movieId being the unique key column."
   ]
  },
  {
   "cell_type": "markdown",
   "metadata": {},
   "source": [
    "### Checking of Duplicates"
   ]
  },
  {
   "cell_type": "code",
   "execution_count": 16,
   "metadata": {
    "execution": {
     "iopub.execute_input": "2022-07-18T11:02:56.321364Z",
     "iopub.status.busy": "2022-07-18T11:02:56.319575Z",
     "iopub.status.idle": "2022-07-18T11:03:03.824879Z",
     "shell.execute_reply": "2022-07-18T11:03:03.823462Z",
     "shell.execute_reply.started": "2022-07-18T11:02:56.321302Z"
    }
   },
   "outputs": [],
   "source": [
    "# Checking for unique users and movieId's in the train dataset\n",
    "users = len(train.userId.unique())\n",
    "items = len(train.movieId.unique())\n",
    "print('There are {} unique users and {}\\\n",
    " unique movies train dataset with {} duplicated entries'.format(users, items, train[train.duplicated()].count().sum()))\n",
    "\n",
    "users1 = len(test.userId.unique())\n",
    "items1 = len(test.movieId.unique())\n",
    "\n",
    "print('There are {} unique users and {}\\\n",
    " unique movies test dataset with {} duplicated entries'.format(users1, items1, test[test.duplicated()].count().sum()))"
   ]
  },
  {
   "cell_type": "markdown",
   "metadata": {},
   "source": [
    "### Normalising and combining the Data"
   ]
  },
  {
   "cell_type": "code",
   "execution_count": 17,
   "metadata": {
    "execution": {
     "iopub.execute_input": "2022-07-18T11:03:12.187841Z",
     "iopub.status.busy": "2022-07-18T11:03:12.187394Z",
     "iopub.status.idle": "2022-07-18T11:03:12.202169Z",
     "shell.execute_reply": "2022-07-18T11:03:12.200656Z",
     "shell.execute_reply.started": "2022-07-18T11:03:12.187809Z"
    }
   },
   "outputs": [],
   "source": [
    "print(train.shape)\n",
    "\n",
    "print(train.info)"
   ]
  },
  {
   "cell_type": "code",
   "execution_count": 18,
   "metadata": {
    "execution": {
     "iopub.execute_input": "2022-07-18T11:03:15.318684Z",
     "iopub.status.busy": "2022-07-18T11:03:15.318258Z",
     "iopub.status.idle": "2022-07-18T11:03:15.349874Z",
     "shell.execute_reply": "2022-07-18T11:03:15.348425Z",
     "shell.execute_reply.started": "2022-07-18T11:03:15.318651Z"
    }
   },
   "outputs": [],
   "source": [
    "# checking the shape and info of the movies dataset\n",
    "print(movies.shape)\n",
    "\n",
    "print(movies.info())"
   ]
  },
  {
   "cell_type": "code",
   "execution_count": 19,
   "metadata": {
    "execution": {
     "iopub.execute_input": "2022-07-18T11:03:18.487410Z",
     "iopub.status.busy": "2022-07-18T11:03:18.486543Z",
     "iopub.status.idle": "2022-07-18T11:03:18.512189Z",
     "shell.execute_reply": "2022-07-18T11:03:18.510745Z",
     "shell.execute_reply.started": "2022-07-18T11:03:18.487367Z"
    }
   },
   "outputs": [],
   "source": [
    "# checking the shape and info of the imdb dataset\n",
    "print(imdb.shape)\n",
    "\n",
    "print(imdb.info())"
   ]
  },
  {
   "cell_type": "markdown",
   "metadata": {},
   "source": [
    "**Merging of Datasets**\n",
    "\n",
    "Now that we have a basic understanding of the data we are working with, we thereby merge the sets below for more in depth analysis in the EDA section."
   ]
  },
  {
   "cell_type": "code",
   "execution_count": 20,
   "metadata": {
    "execution": {
     "iopub.execute_input": "2022-07-18T11:03:21.567428Z",
     "iopub.status.busy": "2022-07-18T11:03:21.566940Z",
     "iopub.status.idle": "2022-07-18T11:03:29.018925Z",
     "shell.execute_reply": "2022-07-18T11:03:29.018072Z",
     "shell.execute_reply.started": "2022-07-18T11:03:21.567390Z"
    }
   },
   "outputs": [],
   "source": [
    "# Combining both train and movies datasets by using movieId\n",
    "# as the matching column between both datasets\n",
    "train_movies_df = pd.merge(train,\n",
    "                           movies,\n",
    "                           how='left',\n",
    "                           on='movieId')\n",
    "\n",
    "# Combining all the observations in movies_metadata_df with imdb_data\n",
    "# using movieId as the matching column between both dataframes\n",
    "movies_metadata_df = pd.merge(train_movies_df,\n",
    "                              imdb,\n",
    "                              how='left',\n",
    "                              on='movieId')\n",
    "\n",
    "movies_metadata_df.head()"
   ]
  },
  {
   "cell_type": "code",
   "execution_count": 21,
   "metadata": {
    "execution": {
     "iopub.execute_input": "2022-07-18T11:03:31.478408Z",
     "iopub.status.busy": "2022-07-18T11:03:31.477536Z",
     "iopub.status.idle": "2022-07-18T11:03:34.332263Z",
     "shell.execute_reply": "2022-07-18T11:03:34.331079Z",
     "shell.execute_reply.started": "2022-07-18T11:03:31.478369Z"
    }
   },
   "outputs": [],
   "source": [
    "movies_metadata_df.isnull().sum()"
   ]
  },
  {
   "cell_type": "code",
   "execution_count": 22,
   "metadata": {
    "execution": {
     "iopub.execute_input": "2022-07-18T11:03:40.558393Z",
     "iopub.status.busy": "2022-07-18T11:03:40.557923Z",
     "iopub.status.idle": "2022-07-18T11:03:45.486293Z",
     "shell.execute_reply": "2022-07-18T11:03:45.484620Z",
     "shell.execute_reply.started": "2022-07-18T11:03:40.558358Z"
    }
   },
   "outputs": [],
   "source": [
    "# Calculating the mean rating per movie\n",
    "movies_ranking = movies_metadata_df[['title', 'rating']].groupby('title').mean().sort_values('rating', ascending=False)\n",
    "movies_ranking.head()"
   ]
  },
  {
   "cell_type": "markdown",
   "metadata": {},
   "source": [
    "# **Exploratory Data Analysis**"
   ]
  },
  {
   "cell_type": "code",
   "execution_count": 23,
   "metadata": {
    "execution": {
     "iopub.execute_input": "2022-07-18T11:03:45.489046Z",
     "iopub.status.busy": "2022-07-18T11:03:45.488585Z",
     "iopub.status.idle": "2022-07-18T11:03:57.379806Z",
     "shell.execute_reply": "2022-07-18T11:03:57.378574Z",
     "shell.execute_reply.started": "2022-07-18T11:03:45.488990Z"
    }
   },
   "outputs": [],
   "source": [
    "print (f'Average rating in the dataset: {np.mean(movies_metadata_df[\"rating\"])}')\n",
    "\n",
    "with sns.axes_style('white'):\n",
    "    g = sns.factorplot(\"rating\", data=movies_metadata_df, aspect=2.5, kind='count')\n",
    "    g.set_ylabels(\"Total number of ratings\")"
   ]
  },
  {
   "cell_type": "markdown",
   "metadata": {},
   "source": [
    "### Observation\n",
    "From the graph above, it shows that most movies have a rating of 4.0, followed by 3.0 rating while the least rated movies by individuals were rated 0.5 and 1.5. Also the mean rating was about 3.5, this reveals that the distribution is left skewed which indicates that most movies are rated well by the users."
   ]
  },
  {
   "cell_type": "code",
   "execution_count": 24,
   "metadata": {
    "execution": {
     "iopub.execute_input": "2022-07-18T11:03:57.382153Z",
     "iopub.status.busy": "2022-07-18T11:03:57.381782Z",
     "iopub.status.idle": "2022-07-18T11:03:59.191595Z",
     "shell.execute_reply": "2022-07-18T11:03:59.190340Z",
     "shell.execute_reply.started": "2022-07-18T11:03:57.382122Z"
    }
   },
   "outputs": [],
   "source": [
    "movies_ranking['No_of_ratings'] = movies_metadata_df.groupby('title')['rating'].count()"
   ]
  },
  {
   "cell_type": "code",
   "execution_count": 25,
   "metadata": {
    "execution": {
     "iopub.execute_input": "2022-07-18T11:03:59.193529Z",
     "iopub.status.busy": "2022-07-18T11:03:59.193142Z",
     "iopub.status.idle": "2022-07-18T11:03:59.222697Z",
     "shell.execute_reply": "2022-07-18T11:03:59.221824Z",
     "shell.execute_reply.started": "2022-07-18T11:03:59.193495Z"
    }
   },
   "outputs": [],
   "source": [
    "movies_ranking.sort_values(by=['No_of_ratings', 'rating'],\n",
    "                          ascending=False).head()"
   ]
  },
  {
   "cell_type": "markdown",
   "metadata": {},
   "source": [
    "This table shows that the best movies are those with high number of ratings as they have been rated highly by large quantities of people."
   ]
  },
  {
   "cell_type": "code",
   "execution_count": 26,
   "metadata": {
    "execution": {
     "iopub.execute_input": "2022-07-18T11:04:09.081753Z",
     "iopub.status.busy": "2022-07-18T11:04:09.081293Z",
     "iopub.status.idle": "2022-07-18T11:04:09.467824Z",
     "shell.execute_reply": "2022-07-18T11:04:09.466513Z",
     "shell.execute_reply.started": "2022-07-18T11:04:09.081718Z"
    }
   },
   "outputs": [],
   "source": [
    "# Set plot size\n",
    "sns.set(rc={'figure.figsize':(12,9)})\n",
    "\n",
    "# Plot Number of rating for every rating category.\n",
    "sns.scatterplot(x='rating', y='No_of_ratings', data=movies_ranking)\n",
    "plt.title('Number of ratings per average rating per movie')\n",
    "plt.xlabel('Rating')\n",
    "plt.ylabel('Number of ratings')\n",
    "plt.show()"
   ]
  },
  {
   "cell_type": "markdown",
   "metadata": {},
   "source": [
    "The above scatterplot shows that there is a strong correlation between the number of ratings a rating-category contains and the rating category, i.e. movies that have more ratings (views) strongly tend to also have higher average ratings. This supports the previously established notion that users tend to give higher ratings in general. The plot below similarly shows that even movies with more than one hundred views (ratings) the average rating stays consistent around 3.5. "
   ]
  },
  {
   "cell_type": "code",
   "execution_count": 27,
   "metadata": {
    "execution": {
     "iopub.execute_input": "2022-07-18T11:04:18.071026Z",
     "iopub.status.busy": "2022-07-18T11:04:18.069802Z",
     "iopub.status.idle": "2022-07-18T11:04:18.672237Z",
     "shell.execute_reply": "2022-07-18T11:04:18.671032Z",
     "shell.execute_reply.started": "2022-07-18T11:04:18.070973Z"
    }
   },
   "outputs": [],
   "source": [
    "# Average rating of movies in the dataset\n",
    "avg_rating = train.groupby('movieId')['rating'].mean()\n",
    "\n",
    "# Plotting the results\n",
    "plt.figure(figsize=(12,10))\n",
    "avg_rating.plot(kind='hist')\n",
    "plt.ylabel('Number of viewers (Frequency)')\n",
    "plt.xlabel('Movie Rating')\n",
    "plt.title('Average ratings of movies with 100 or more viewers')\n",
    "plt.show()"
   ]
  },
  {
   "cell_type": "markdown",
   "metadata": {},
   "source": [
    "So this confirms the hypothesis that movies with more views have a good average ratings"
   ]
  },
  {
   "cell_type": "code",
   "execution_count": 28,
   "metadata": {
    "execution": {
     "iopub.execute_input": "2022-07-18T11:04:23.921220Z",
     "iopub.status.busy": "2022-07-18T11:04:23.920291Z",
     "iopub.status.idle": "2022-07-18T11:04:25.736570Z",
     "shell.execute_reply": "2022-07-18T11:04:25.735171Z",
     "shell.execute_reply.started": "2022-07-18T11:04:23.921174Z"
    }
   },
   "outputs": [],
   "source": [
    "best_director = pd.DataFrame(movies_metadata_df.groupby('director')['rating'].mean().\n",
    "                             sort_values(ascending=False))\n",
    "best_director['No_of_ratings'] = movies_metadata_df.groupby('director')['rating'].count()\n",
    "best_director.sort_values(by=['No_of_ratings', 'rating'], ascending=False).head(10)"
   ]
  },
  {
   "cell_type": "code",
   "execution_count": 29,
   "metadata": {
    "execution": {
     "iopub.execute_input": "2022-07-18T11:04:30.437344Z",
     "iopub.status.busy": "2022-07-18T11:04:30.436352Z",
     "iopub.status.idle": "2022-07-18T11:04:30.810218Z",
     "shell.execute_reply": "2022-07-18T11:04:30.808725Z",
     "shell.execute_reply.started": "2022-07-18T11:04:30.437284Z"
    }
   },
   "outputs": [],
   "source": [
    "# Set plot size\n",
    "sns.set(rc={'figure.figsize':(12,9)})\n",
    "\n",
    "sns.scatterplot(x = 'rating', y = 'No_of_ratings', data = best_director).set_title('Number of ratings per average rating per director')\n",
    "plt.xlabel('Ratings')\n",
    "plt.ylabel('Number of Ratings')\n",
    "plt.show()"
   ]
  },
  {
   "cell_type": "code",
   "execution_count": 30,
   "metadata": {
    "execution": {
     "iopub.execute_input": "2022-07-18T11:04:54.259732Z",
     "iopub.status.busy": "2022-07-18T11:04:54.259215Z",
     "iopub.status.idle": "2022-07-18T11:04:54.867110Z",
     "shell.execute_reply": "2022-07-18T11:04:54.865807Z",
     "shell.execute_reply.started": "2022-07-18T11:04:54.259694Z"
    }
   },
   "outputs": [],
   "source": [
    "# Storing the years from the titles separately:\n",
    "\n",
    "# We specify the parantheses so we don’t conflict with movies that have years in their titles\n",
    "movies[\"year\"] = movies.title.str.extract(\"\\((\\d{4})\\)\", expand=True)\n",
    "# Removing the parentheses\n",
    "movies[\"year\"] = movies.year.str.extract(\"(\\d\\d\\d\\d)\", expand=True)\n",
    "# Removing the years from the ‘title’ column\n",
    "movies[\"title\"] = movies.title.str.replace(\"(\\(\\d\\d\\d\\d\\))\", \"\")\n",
    "# Applying the strip function to get rid of any ending whitespace characters that may have appeared\n",
    "movies[\"title\"] = movies[\"title\"].apply(lambda x: x.strip())"
   ]
  },
  {
   "cell_type": "code",
   "execution_count": 31,
   "metadata": {
    "execution": {
     "iopub.execute_input": "2022-07-18T11:05:08.980490Z",
     "iopub.status.busy": "2022-07-18T11:05:08.980009Z",
     "iopub.status.idle": "2022-07-18T11:05:09.052664Z",
     "shell.execute_reply": "2022-07-18T11:05:09.050732Z",
     "shell.execute_reply.started": "2022-07-18T11:05:08.980441Z"
    }
   },
   "outputs": [],
   "source": [
    "# Removing the character separating the genres for each movie\n",
    "movies['genres'] = movies['genres'].str.replace('|',' ')\n",
    "\n",
    "# Removing the same character for the meatadata:\n",
    "imdb['title_cast'] = imdb['title_cast'].str.replace('|',' ')\n",
    "imdb['plot_keywords'] = imdb['plot_keywords'].str.replace('|',' ')"
   ]
  },
  {
   "cell_type": "code",
   "execution_count": 32,
   "metadata": {
    "execution": {
     "iopub.execute_input": "2022-07-18T11:05:14.668411Z",
     "iopub.status.busy": "2022-07-18T11:05:14.667908Z",
     "iopub.status.idle": "2022-07-18T11:05:14.682292Z",
     "shell.execute_reply": "2022-07-18T11:05:14.681068Z",
     "shell.execute_reply.started": "2022-07-18T11:05:14.668371Z"
    }
   },
   "outputs": [],
   "source": [
    "movies.head(10)"
   ]
  },
  {
   "cell_type": "code",
   "execution_count": 33,
   "metadata": {
    "execution": {
     "iopub.execute_input": "2022-07-18T11:06:08.972341Z",
     "iopub.status.busy": "2022-07-18T11:06:08.971772Z",
     "iopub.status.idle": "2022-07-18T11:06:08.989224Z",
     "shell.execute_reply": "2022-07-18T11:06:08.987940Z",
     "shell.execute_reply.started": "2022-07-18T11:06:08.972303Z"
    }
   },
   "outputs": [],
   "source": [
    "imdb.head()"
   ]
  },
  {
   "cell_type": "code",
   "execution_count": 34,
   "metadata": {
    "execution": {
     "iopub.execute_input": "2022-07-18T11:06:49.098957Z",
     "iopub.status.busy": "2022-07-18T11:06:49.096986Z",
     "iopub.status.idle": "2022-07-18T11:06:49.125004Z",
     "shell.execute_reply": "2022-07-18T11:06:49.123906Z",
     "shell.execute_reply.started": "2022-07-18T11:06:49.098873Z"
    }
   },
   "outputs": [],
   "source": [
    "# map movie to id:\n",
    "Mapping_file = dict(zip(movies.title.tolist(), movies.movieId.tolist()))"
   ]
  },
  {
   "cell_type": "code",
   "execution_count": 35,
   "metadata": {
    "execution": {
     "iopub.execute_input": "2022-07-18T11:07:00.454977Z",
     "iopub.status.busy": "2022-07-18T11:07:00.454483Z",
     "iopub.status.idle": "2022-07-18T11:07:03.309529Z",
     "shell.execute_reply": "2022-07-18T11:07:03.308126Z",
     "shell.execute_reply.started": "2022-07-18T11:07:00.454937Z"
    }
   },
   "outputs": [],
   "source": [
    "metadata = pd.merge(movies, imdb, on='movieId', how='left')\n",
    "# The number of Movies released per year\n",
    "num = metadata.groupby('year').count()\n",
    "plt.figure(figsize=(20,10))\n",
    "plt.plot(num.index, num['budget'])\n",
    "plt.xlabel(\"years\", size=25)\n",
    "plt.xticks(rotation='vertical')\n",
    "plt.ylabel('No. of Movies', size=25)\n",
    "plt.title('Number of Movies Released By year', size=25)\n",
    "plt.show()"
   ]
  },
  {
   "cell_type": "markdown",
   "metadata": {},
   "source": [
    "The graph above highlights an important point to keep in mind: The dataset we are working with does not contain all movies ever released. It is a subset of thereof with properties that differ from the a hypotherical dataset that contains all movies ever released. For example, it's clear that movie production did not drop to almost 0 in 2016, but that the dataset doesn't include many movies after that date."
   ]
  },
  {
   "cell_type": "code",
   "execution_count": 36,
   "metadata": {
    "execution": {
     "iopub.execute_input": "2022-07-18T11:07:27.074033Z",
     "iopub.status.busy": "2022-07-18T11:07:27.073532Z",
     "iopub.status.idle": "2022-07-18T11:07:47.861617Z",
     "shell.execute_reply": "2022-07-18T11:07:47.860425Z",
     "shell.execute_reply.started": "2022-07-18T11:07:27.073991Z"
    }
   },
   "outputs": [],
   "source": [
    "#The years of movies releases\n",
    "year_corpus = metadata['year'].value_counts()\n",
    "# Generating the wordcolud\n",
    "year_wordcloud = WordCloud(background_color='black', height=2000, width=4000).generate_from_frequencies(year_corpus)\n",
    "plt.figure(figsize=(16,8))\n",
    "plt.imshow(year_wordcloud)\n",
    "plt.axis('off')\n",
    "plt.show()"
   ]
  },
  {
   "cell_type": "markdown",
   "metadata": {},
   "source": [
    "The wordcloud above similarly displays the most prevalent release years in this dataset."
   ]
  },
  {
   "cell_type": "code",
   "execution_count": 37,
   "metadata": {
    "execution": {
     "iopub.execute_input": "2022-07-18T11:07:47.864726Z",
     "iopub.status.busy": "2022-07-18T11:07:47.863986Z",
     "iopub.status.idle": "2022-07-18T11:07:49.060438Z",
     "shell.execute_reply": "2022-07-18T11:07:49.059247Z",
     "shell.execute_reply.started": "2022-07-18T11:07:47.864677Z"
    }
   },
   "outputs": [],
   "source": [
    "#Plotting total amount of movies released in each year using a count plot.\n",
    "figure= plt.subplots(figsize=(15, 5))\n",
    "axes=sns.countplot(x=metadata['year'], order = metadata['year'].value_counts()[0:50].index,color='blue')\n",
    "axes.set_title('Total movies released per year',fontsize=19)\n",
    "plt.xticks(rotation=90)\n",
    "plt.show()"
   ]
  },
  {
   "cell_type": "markdown",
   "metadata": {},
   "source": [
    "The above plot shows estimated number of movies produced each year with 2015 having the highest number of movie released and 1978 had the lowest number of movies released that year."
   ]
  },
  {
   "cell_type": "code",
   "execution_count": 38,
   "metadata": {
    "execution": {
     "iopub.execute_input": "2022-07-18T11:20:55.244927Z",
     "iopub.status.busy": "2022-07-18T11:20:55.244418Z",
     "iopub.status.idle": "2022-07-18T11:21:06.992820Z",
     "shell.execute_reply": "2022-07-18T11:21:06.991324Z",
     "shell.execute_reply.started": "2022-07-18T11:20:55.244889Z"
    }
   },
   "outputs": [],
   "source": [
    "years = pd.merge(train, movies, on='movieId')[['userId','year']].dropna()\n",
    "years['year'] = years['year'].astype('int64')\n",
    "years.groupby('userId').mean()\n",
    "\n",
    "# Set plot size\n",
    "sns.set(rc={'figure.figsize':(12,9)})\n",
    "\n",
    "plt.figure(figsize=(12,10))\n",
    "years['year'].plot(kind='hist')\n",
    "plt.ylabel('Frequency')\n",
    "plt.xlabel('Average release year per user')\n",
    "plt.title('Distribution of release years for movies rated by users')\n",
    "plt.show()"
   ]
  },
  {
   "cell_type": "markdown",
   "metadata": {},
   "source": [
    "The above graph shows the ratings per year (averaged year per user) on this dataset. It illustrated the point that certain users have preferences regarding release year which may be useful when performing predictive modelling.\n",
    "\n",
    "Next to explore some of the highest-rated moviesin this dataset, the timestamp column of the train dataset is converted to date time format, and the years extracted"
   ]
  },
  {
   "cell_type": "code",
   "execution_count": 39,
   "metadata": {
    "execution": {
     "iopub.execute_input": "2022-07-18T11:23:42.269936Z",
     "iopub.status.busy": "2022-07-18T11:23:42.268438Z",
     "iopub.status.idle": "2022-07-18T11:23:52.380668Z",
     "shell.execute_reply": "2022-07-18T11:23:52.379446Z",
     "shell.execute_reply.started": "2022-07-18T11:23:42.269879Z"
    }
   },
   "outputs": [],
   "source": [
    "train['datetime_of_rating'] = train['timestamp'].apply(lambda x: datetime.fromtimestamp(x))\n",
    "train['year_rated'] = train['datetime_of_rating'].dt.year\n",
    "train_temp = train.drop(['timestamp', 'datetime_of_rating'], axis = 1)\n",
    "train_temp.head()"
   ]
  },
  {
   "cell_type": "code",
   "execution_count": 40,
   "metadata": {
    "execution": {
     "iopub.execute_input": "2022-07-18T11:27:00.780178Z",
     "iopub.status.busy": "2022-07-18T11:27:00.778686Z",
     "iopub.status.idle": "2022-07-18T11:27:01.424329Z",
     "shell.execute_reply": "2022-07-18T11:27:01.422808Z",
     "shell.execute_reply.started": "2022-07-18T11:27:00.780107Z"
    }
   },
   "outputs": [],
   "source": [
    "# Group and count ratings by year\n",
    "year_rated_df = train_temp[['year_rated','rating']].groupby('year_rated').count()\n",
    "\n",
    "# Set plot size\n",
    "sns.set(rc={'figure.figsize':(12,9)})\n",
    "\n",
    "sns.scatterplot(x = 'year_rated', y = 'rating', data = year_rated_df.reset_index()).set_title('Number of ratings per average rating per director')\n",
    "plt.xlabel('Year rated')\n",
    "plt.ylabel('number of ratings')\n",
    "plt.show()"
   ]
  },
  {
   "cell_type": "markdown",
   "metadata": {},
   "source": [
    "From the plot above we can see that all ratings were only created between 1995 and 2020, with no clear correlation between year within that range and number of ratings created/collected."
   ]
  },
  {
   "cell_type": "markdown",
   "metadata": {},
   "source": [
    "## Rating timestamp exploration\n",
    "Further analysis is performed to see whether day of the week (of rating creation/collection) influences the rating itself."
   ]
  },
  {
   "cell_type": "code",
   "execution_count": 41,
   "metadata": {
    "execution": {
     "iopub.execute_input": "2022-07-18T11:28:05.678641Z",
     "iopub.status.busy": "2022-07-18T11:28:05.677036Z",
     "iopub.status.idle": "2022-07-18T11:28:06.105759Z",
     "shell.execute_reply": "2022-07-18T11:28:06.104463Z",
     "shell.execute_reply.started": "2022-07-18T11:28:05.678561Z"
    }
   },
   "outputs": [],
   "source": [
    "# Convert the timestamp values into date time format\n",
    "train['timestamp'] = pd.to_datetime(train['timestamp'], unit='ms')\n",
    "train.head()"
   ]
  },
  {
   "cell_type": "code",
   "execution_count": 42,
   "metadata": {
    "execution": {
     "iopub.execute_input": "2022-07-18T11:28:28.349999Z",
     "iopub.status.busy": "2022-07-18T11:28:28.348716Z",
     "iopub.status.idle": "2022-07-18T11:28:31.073334Z",
     "shell.execute_reply": "2022-07-18T11:28:31.072063Z",
     "shell.execute_reply.started": "2022-07-18T11:28:28.349950Z"
    }
   },
   "outputs": [],
   "source": [
    "# Extract the days of the week from the timestamp column\n",
    "train['day_of_week'] = train['timestamp'].dt.dayofweek\n",
    "days = {0:'Mon',1:'Tue',2:'Wed',3:'Thur',4:'Fri',5:'Sat',6:'Sun'}\n",
    "train['day_of_week'] = train['day_of_week'].apply(lambda x: days[x])\n",
    "train.tail()"
   ]
  },
  {
   "cell_type": "code",
   "execution_count": 43,
   "metadata": {
    "execution": {
     "iopub.execute_input": "2022-07-18T11:29:53.700510Z",
     "iopub.status.busy": "2022-07-18T11:29:53.699191Z",
     "iopub.status.idle": "2022-07-18T11:29:54.337449Z",
     "shell.execute_reply": "2022-07-18T11:29:54.336217Z",
     "shell.execute_reply.started": "2022-07-18T11:29:53.700453Z"
    }
   },
   "outputs": [],
   "source": [
    "# Plot of the average number of ratings for each day\n",
    "train['day_of_week'].value_counts().plot(kind='bar')\n",
    "plt.title('Ratings per day of the week')\n",
    "plt.xlabel('Day of the week')\n",
    "plt.ylabel('Proportion of ratings created/collected')\n",
    "plt.show()"
   ]
  },
  {
   "cell_type": "markdown",
   "metadata": {},
   "source": [
    "**Observation**\n",
    "\n",
    "The graph above shows that on average, movies were rated more often on Sundays and Saturdays.\n",
    "A possible explanation is that more people are at home/at the cinema watching movies on Saturdays and Sundays."
   ]
  },
  {
   "cell_type": "markdown",
   "metadata": {},
   "source": [
    "**Genre and Tag Exploration**"
   ]
  },
  {
   "cell_type": "code",
   "execution_count": 44,
   "metadata": {
    "execution": {
     "iopub.execute_input": "2022-07-18T11:30:53.952377Z",
     "iopub.status.busy": "2022-07-18T11:30:53.951032Z",
     "iopub.status.idle": "2022-07-18T11:31:17.587092Z",
     "shell.execute_reply": "2022-07-18T11:31:17.585777Z",
     "shell.execute_reply.started": "2022-07-18T11:30:53.952306Z"
    }
   },
   "outputs": [],
   "source": [
    "# Looking at the titles and checking for any similarity\n",
    "metadata['genres'] = metadata['genres'].astype('str')\n",
    "genre_corpus = ' '.join(metadata['genres'])\n",
    "#Generating the stopwords\n",
    "stopword = ['no genres', 'no', 'genres', 'genre', 'listed']\n",
    "# Generating the wordcolud\n",
    "genre_wordcloud = WordCloud(stopwords=stopword, background_color='black', height=2000, width=4000).generate(genre_corpus)\n",
    "plt.figure(figsize=(16,8))\n",
    "plt.imshow(genre_wordcloud)\n",
    "plt.axis('off')\n",
    "plt.show()"
   ]
  },
  {
   "cell_type": "markdown",
   "metadata": {},
   "source": [
    "We can see that majority of the movies in the dataset are Comedy, Drama and Sci-Fi, and Romance, closely followed by Action, Adventure, Crime, and Thriller."
   ]
  },
  {
   "cell_type": "code",
   "execution_count": 45,
   "metadata": {
    "execution": {
     "iopub.execute_input": "2022-07-18T11:33:29.079587Z",
     "iopub.status.busy": "2022-07-18T11:33:29.079072Z",
     "iopub.status.idle": "2022-07-18T11:33:29.360790Z",
     "shell.execute_reply": "2022-07-18T11:33:29.359650Z",
     "shell.execute_reply.started": "2022-07-18T11:33:29.079549Z"
    }
   },
   "outputs": [],
   "source": [
    "sns.violinplot(x = 'runtime', data = metadata,).set_title('Distribution of Movie Duration')\n",
    "plt.show()"
   ]
  },
  {
   "cell_type": "code",
   "execution_count": 46,
   "metadata": {
    "execution": {
     "iopub.execute_input": "2022-07-18T11:33:34.848385Z",
     "iopub.status.busy": "2022-07-18T11:33:34.846999Z",
     "iopub.status.idle": "2022-07-18T11:33:34.860801Z",
     "shell.execute_reply": "2022-07-18T11:33:34.859274Z",
     "shell.execute_reply.started": "2022-07-18T11:33:34.848309Z"
    }
   },
   "outputs": [],
   "source": [
    "print('runtime mean: ', metadata['runtime'].mean())\n",
    "print('runtime standard deviation: ', metadata['runtime'].std())"
   ]
  },
  {
   "cell_type": "markdown",
   "metadata": {},
   "source": [
    "Most of the runtimes are centered around the mean as shown by the violin plot above and the variation between the length of the movies is quite small, as shown by the standard deviation. There are also a few outliers. Also, realistically speaking, runtime is not really important in determining if a person will watch a movie because if they really do not like watching long movies, they can simply watch it in intervals.\n",
    "\n"
   ]
  },
  {
   "cell_type": "markdown",
   "metadata": {},
   "source": [
    "## **Recommender Choice**\n",
    "\n",
    "The two filtering recommender systems are categorised as content based and collabortive. The image below is a summary of the type of features that each system could use to make recommendations.\n",
    "\n",
    "Next is a summary of how each system creates recommendations, how it genereates predictions, its drawbacks, and then we finally delve into the modelling"
   ]
  },
  {
   "attachments": {
    "4bf52474-d32f-4812-ad62-bf671bfbd26f.png": {
     "image/png": "[encoded data removed]"
    }
   },
   "cell_type": "markdown",
   "metadata": {
    "execution": {
     "iopub.execute_input": "2022-07-15T22:40:53.931091Z",
     "iopub.status.busy": "2022-07-15T22:40:53.930731Z",
     "iopub.status.idle": "2022-07-15T22:40:53.946767Z",
     "shell.execute_reply": "2022-07-15T22:40:53.945838Z",
     "shell.execute_reply.started": "2022-07-15T22:40:53.931061Z"
    }
   },
   "source": [
    "![image.png](attachment:4bf52474-d32f-4812-ad62-bf671bfbd26f.png)"
   ]
  },
  {
   "cell_type": "markdown",
   "metadata": {},
   "source": [
    "**Content Based:**\n",
    "\n",
    "Content Based movie recommender systems suggest items based on similarity to a movie that they already positively rated/interacted with. In the context of movies, such a system could use features such as director, cast, genre or description of a movie to make recommendations.\n",
    "\n",
    "Though content-based filtering doesn't need any data about users to make recommendations, a drawback is it tends to return on average items in a similar category with little variation across the recommendations."
   ]
  },
  {
   "cell_type": "markdown",
   "metadata": {},
   "source": []
  },
  {
   "cell_type": "markdown",
   "metadata": {},
   "source": [
    "# MODELLING"
   ]
  },
  {
   "cell_type": "code",
   "execution_count": 47,
   "metadata": {
    "execution": {
     "iopub.execute_input": "2022-07-18T12:29:50.003617Z",
     "iopub.status.busy": "2022-07-18T12:29:50.002129Z",
     "iopub.status.idle": "2022-07-18T12:29:53.946778Z",
     "shell.execute_reply": "2022-07-18T12:29:53.945577Z",
     "shell.execute_reply.started": "2022-07-18T12:29:50.003561Z"
    }
   },
   "outputs": [],
   "source": [
    "# Define sample size of 500 000 taken from train dataset\n",
    "# The samples are taken without replacement\n",
    "train_sample = train.sample(n = 500000, replace = False)\n",
    "# Drop the timestamp column as it is not needed\n",
    "data = train_sample.drop(['timestamp', 'datetime_of_rating', 'day_of_week', 'year_rated'], axis = 1)\n",
    "# Define the Reader object by specifying the rating scale in the dataset\n",
    "#reader = Reader(rating_scale=(0.5, 5)) #line_format='user item rating') \n",
    "reader = Reader(rating_scale=(data['rating'].min(), data['rating'].max()))\n",
    "# Load the dataset from the pandas dataframe\n",
    "data2 = Dataset.load_from_df(data, reader)\n",
    "\n",
    "#Splitting dataset into train and validation sets\n",
    "train_set, val_set = train_test_split(data2, test_size=0.15, random_state=42)"
   ]
  },
  {
   "cell_type": "markdown",
   "metadata": {},
   "source": [
    "## **Collaborative Filtering:**¶\n",
    "Collaborative filtering movie recommender systems are said to be more widely used and make recommendations to users based on the similarity between users, in this case it would be the recommendation of a movie or the likely prediction a user could rate a movie based on the ratings of similar users.\n",
    "\n",
    "Though they are widely used in the industry, one of the drawbacks of collaborative filtering is the so called cold start problem when it comes to new users, as the system does not have sufficient data on the user to make accurate predictions.\n",
    "\n",
    "Unlike content based methods, collaborative algorithms return more varied results, enabling the business to introduce users to new types of content, hence increasing viewage and profit. It is for this reason that we use Collaborative filtering as our main approach. The tested models are all implemented from sklean's surprise package. The algorithms are tested below and their results summarised in the table in the comet section."
   ]
  },
  {
   "cell_type": "markdown",
   "metadata": {},
   "source": [
    "Similarity Measure"
   ]
  },
  {
   "attachments": {
    "589088f3-defc-4aa3-8f91-c517e6b77da2.png": {
     "image/png": "[encoded data removed]"
    }
   },
   "cell_type": "markdown",
   "metadata": {},
   "source": [
    "![image.png](attachment:589088f3-defc-4aa3-8f91-c517e6b77da2.png)"
   ]
  },
  {
   "cell_type": "markdown",
   "metadata": {},
   "source": [
    "**The KNNBasic is a basic nearest-neighbor based collaborative filtering algorithm derived from the basic nearest-neighbor approach.**\n",
    "\n"
   ]
  },
  {
   "cell_type": "code",
   "execution_count": 51,
   "metadata": {
    "execution": {
     "iopub.execute_input": "2022-07-18T12:36:00.600603Z",
     "iopub.status.busy": "2022-07-18T12:36:00.600040Z",
     "iopub.status.idle": "2022-07-18T12:38:31.810434Z",
     "shell.execute_reply": "2022-07-18T12:38:31.809452Z",
     "shell.execute_reply.started": "2022-07-18T12:36:00.600566Z"
    }
   },
   "outputs": [],
   "source": [
    "# Modeling\n",
    "from surprise import model_selection\n",
    "kSplit = model_selection.split.KFold(n_splits=5, shuffle=True)\n",
    "\n",
    "sim_options = {'name': 'cosine',\n",
    "               'user_based': False  # compute  similarities between items\n",
    "               }\n",
    "\n",
    "collabKNN = KNNBasic(k=40, sim_options=sim_options)\n",
    "\n",
    "rmseKNN = []\n",
    "rmseSlope = []\n",
    "\n",
    "for trainset, testset in kSplit.split(data2):  # iterate through the folds\n",
    "    collabKNN.fit(trainset)\n",
    "    predictionsKNN = collabKNN.test(testset)\n",
    "    # get root means squared error\n",
    "    rmseKNN.append(rmse(predictionsKNN, verbose=True))\n",
    "\n",
    "# Dictionary for the data to log for KNN basic model\n",
    "params = {'k': 40, 'sim_options': {'name': 'cosine', 'user_based': False},\n",
    "          'model_type': 'KNN_basic'}\n",
    "metrics = {'RMSE': rmse(predictionsKNN, verbose=True)}\n",
    "\n",
    "# Log the parameters and results for the KNN basic model\n",
    "experiment.log_parameters(params)\n",
    "experiment.log_parameters(metrics)"
   ]
  },
  {
   "cell_type": "code",
   "execution_count": 53,
   "metadata": {
    "execution": {
     "iopub.execute_input": "2022-07-18T12:42:49.166643Z",
     "iopub.status.busy": "2022-07-18T12:42:49.165712Z",
     "iopub.status.idle": "2022-07-18T12:45:46.982704Z",
     "shell.execute_reply": "2022-07-18T12:45:46.981553Z",
     "shell.execute_reply.started": "2022-07-18T12:42:49.166565Z"
    }
   },
   "outputs": [],
   "source": [
    "# Modeling\n",
    "kSplit = model_selection.split.KFold(n_splits=5, shuffle=True)\n",
    "coClus = CoClustering(n_cltr_u=4,\n",
    "                                                                   n_cltr_i=4,\n",
    "                                                                   n_epochs=25)\n",
    "rmseCo = []\n",
    "for trainset, testset in kSplit.split(data2):  # iterate through the folds\n",
    "    coClus.fit(trainset)\n",
    "    predictionsCoClus = coClus.test(testset)\n",
    "    # get root means squared error\n",
    "    rmseCo.append(rmse(predictionsCoClus, verbose=True))\n",
    "\n",
    "# Dictionary for the data to log for CoClustering model\n",
    "params = {'user_cluster': 4, 'item_cluster': 4,\n",
    "          'n_ephocs': 25, 'model_name': 'CoClustering'}\n",
    "metrics = {'RMSE': rmse(predictionsCoClus, verbose=True)}\n",
    "\n",
    "# Log the parameters and results for the CoClustering model\n",
    "experiment.log_parameters(params)\n",
    "experiment.log_parameters(metrics)"
   ]
  },
  {
   "cell_type": "code",
   "execution_count": null,
   "metadata": {},
   "outputs": [],
   "source": [
    "# Modeling\n",
    "kSplit = model_selection.split.KFold(n_splits=5, shuffle=True)\n",
    "BLO = BaselineOnly()\n",
    "rmseBLO = []\n",
    "# iterate through the folds.\n",
    "for trainset, testset in kSplit.split(data2):\n",
    "    BLO.fit(trainset)\n",
    "    BLOPreds = BLO.test(testset)\n",
    "    # get root means squared error\n",
    "    rmseBLO.append(rmse(BLOPreds, verbose=True))\n",
    "\n",
    "# Dictionary for the data to log for BLO model\n",
    "paramns = {'model_name': 'BaseLineOnly'}\n",
    "metrics = {'RMSE':rmse(BLOPreds, verbose=True)}\n",
    "\n",
    "# Log the parameters and results for the BLO model\n",
    "experiment.log_parameters(params)\n",
    "experiment.log_parameters(metrics)"
   ]
  },
  {
   "cell_type": "code",
   "execution_count": null,
   "metadata": {},
   "outputs": [],
   "source": [
    "# Modeling\n",
    "train_set, val_set = train_test_split(data, test_size=0.15, random_state=42)\n",
    "bsl_options = {'method': 'als',\n",
    "               'n_epochs': 5,\n",
    "               'reg_u': 12,\n",
    "               'reg_i': 5\n",
    "               }\n",
    "bl_algo = BaselineOnly(bsl_options=bsl_options)\n",
    "cross_validate(bl_algo, data, measures=['RMSE'], cv=5, verbose=False)\n",
    "bl_predictions = bl_algo.fit(train_set).test(val_set)\n",
    "accuracy.rmse(bl_predictions)\n",
    "\n",
    "# Dictionary for the data to log for baseline_tuned model\n",
    "params = {'model_name': 'Baseline_tuned'}\n",
    "metrics = {'RMSE': accuracy.rmse(bl_predictions)}\n",
    "\n",
    "# Log the parameters and results for the baseline_tuned model\n",
    "experiment.log_parameters(params)\n",
    "experiment.log_parameters(metrics)"
   ]
  },
  {
   "cell_type": "code",
   "execution_count": null,
   "metadata": {},
   "outputs": [],
   "source": [
    "kSplit = model_selection.split.KFold(n_splits=5, shuffle=True)\n",
    "KNNMeans = KNNWithMeans(sim_options=sim_options)\n",
    "rmseKNNMeans = []\n",
    "for trainset, testset in kSplit.split(data2):  # iterate through the folds\n",
    "    KNNMeans.fit(trainset)\n",
    "    KNNMeansPreds = KNNMeans.test(testset)\n",
    "    # Get root means squared error\n",
    "    rmseKNNMeans.append(rmse(KNNMeansPreds, verbose=True))\n",
    "\n",
    "# Dictionary for the data to log for KNNMeans model\n",
    "params = {'model_name': 'KNNWithMeans'}\n",
    "metrics = {'RMSE': rmse(KNNMeansPreds, verbose=True)}\n",
    "\n",
    "# Log the parameters and results for the KNNMeans model\n",
    "experiment.log_parameters(params)\n",
    "experiment.log_parameters(metrics)"
   ]
  },
  {
   "cell_type": "code",
   "execution_count": null,
   "metadata": {},
   "outputs": [],
   "source": [
    "# Modeling\n",
    "kSplit = model_selection.split.KFold(n_splits=5, shuffle=True)\n",
    "KNNZsco = KNNWithZScore(sim_options=sim_options)\n",
    "rmseKNNZscore = []\n",
    "for trainset, testset in kSplit.split(data2):  # iterate through the folds.\n",
    "    KNNZsco.fit(trainset)\n",
    "    KNNZscorePreds = KNNZsco.test(testset)\n",
    "    # Get root means squared error\n",
    "    rmseKNNZscore.append(rmse(KNNZscorePreds, verbose=True))\n",
    "\n",
    "# Dictionary for the data to log for KNNWithZScore model\n",
    "params = {'model_name': 'KNNWithZscore'}\n",
    "metrics = {'RMSE':rmse(KNNZscorePreds, verbose=True)}\n",
    "\n",
    "# Log the parameters and results for the KNNWithZscore model\n",
    "experiment.log_parameters(params)\n",
    "experiment.log_parameters(metrics)"
   ]
  },
  {
   "cell_type": "code",
   "execution_count": null,
   "metadata": {},
   "outputs": [],
   "source": [
    "# Modeling\n",
    "kSplit = model_selection.split.KFold(n_splits=5, shuffle=True)\n",
    "KNNBaseL = KNNBaseline(sim_options=sim_options)\n",
    "rmseKNNBaseL = []\n",
    "for trainset, testset in kSplit.split(data2):  # iterate through the folds.\n",
    "    KNNBaseL.fit(trainset)\n",
    "    KNNBaseLPreds = KNNBaseL.test(testset)\n",
    "    # Get root means squared error\n",
    "    rmseKNNBaseL.append(rmse(KNNBaseLPreds, verbose=True))\n",
    "\n",
    "# Dictionary for the data to log for KNNBaseLine model\n",
    "params = {'model_name': 'KNNBaseLine'}\n",
    "metrics = {'RMSE': rmse(KNNBaseLPreds, verbose=True)}\n",
    "\n",
    "# Log the parameters and results for the KNNBaseLine model\n",
    "experiment.log_parameters(params)\n",
    "experiment.log_parameters(metrics)"
   ]
  },
  {
   "cell_type": "code",
   "execution_count": null,
   "metadata": {},
   "outputs": [],
   "source": [
    "# Modelling\n",
    "kSplit = model_selection.split.KFold(n_splits=5, shuffle=True)\n",
    "NMF = NMF()\n",
    "rmseNMF = []\n",
    "for trainset, testset in kSplit.split(data2): #iterate through the folds.\n",
    "    NMF.fit(trainset)\n",
    "    NMFPreds = NMF.test(testset)\n",
    "    rmseNMF.append(rmse(NMFPreds,verbose=True))#get root means squared error\n",
    "\n",
    "    \n",
    "# Dictionary for the data to log for the NMF model\n",
    "params = {'model_name': 'NMF'}\n",
    "metrics = {'RMSE': rmse(NMFPreds,verbose=True)}\n",
    "\n",
    "# Log the parameters and results for the NMF model\n",
    "experiment.log_parameters(params)\n",
    "experiment.log_parameters(metrics)"
   ]
  },
  {
   "cell_type": "code",
   "execution_count": null,
   "metadata": {},
   "outputs": [],
   "source": [
    "# Define the SVD algorithm class\n",
    "svd_algo = SVD()\n",
    "# Fitting the model on the train_set\n",
    "svd_algo.fit(train_set)\n",
    "# Predicting on the validation set\n",
    "svd_predictions = svd_algo.test(val_set)\n",
    "# Calculating the RMSE of the predictions\n",
    "accuracy.rmse(svd_predictions)\n",
    "\n",
    "# Dictionary for the data to log for SVD model\n",
    "params = {'model_name': 'SVD'}\n",
    "metrics = {'RMSE': rmse(svd_predictions)}\n",
    "\n",
    "# Log the parameters and results for the SVD model\n",
    "experiment.log_parameters(params)\n",
    "experiment.log_parameters(metrics)"
   ]
  },
  {
   "cell_type": "code",
   "execution_count": null,
   "metadata": {},
   "outputs": [],
   "source": [
    "rating_scale = Reader(rating_scale=(0.5, 5))\n",
    "train_df = Dataset.load_from_df(train.drop('timestamp', axis=1), rating_scale)\n",
    "\n",
    "# Training and validation set split for hypertuning\n",
    "train_set, val_set = train_test_split(train_df,\n",
    "                                      test_size=0.008,\n",
    "                                      random_state=42)\n",
    "\n",
    "# Modelling of the SVD hypertuning\n",
    "svd_algo_hyper = SVD(n_factors=160, \n",
    "                     lr_all=0.0085,\n",
    "                     reg_all=0.02,\n",
    "                     n_epochs=20,\n",
    "                     init_std_dev=0.01)\n",
    "svd_algo_hyper.fit(train_set)\n",
    "\n",
    "# Predicting on the validation set\n",
    "svd_hyper_predictions = svd_algo_hyper.test(val_set)\n",
    "\n",
    "# Convert the predictions to dataframe\n",
    "#test = pd.DataFrame(predictions)\n",
    "accuracy.rmse(svd_hyper_predictions)\n",
    "\n",
    "# Dictionary for the data to log for the SVD tuned model\n",
    "params = {'model_name': 'SVD_Tuned'}\n",
    "metrics = {'RMSE': accuracy.rmse(svd_hyper_predictions)}\n",
    "\n",
    "# Log the parameters and results for the SVD tuned model\n",
    "experiment.log_parameters(params)\n",
    "experiment.log_parameters(metrics)\n",
    "# End the experiment for the SVD tuned experiment\n",
    "experiment.end()"
   ]
  },
  {
   "cell_type": "code",
   "execution_count": null,
   "metadata": {},
   "outputs": [],
   "source": [
    "# Summary of the comet experiments\n",
    "rmse_scores = [1.16, 1.04, 1.00, 1.12, 0.92, 0.91, 0.92, 1.03, 0.98, 1.04, 0.78]\n",
    "models = ['NMF', 'KNN Basic', 'BaseLineOnly', 'CoClustering',\n",
    "          'SVD', 'SVD_tuned', 'BaselineTuned', 'KNNwithZscore',\n",
    "          'KNNBaseLine', 'KNNWithMeans', 'SVDNewTuned']\n",
    "comet_scores = pd.DataFrame({'RMSE': rmse_scores}, index = models)\n",
    "comet_scores.sort_values(by='RMSE')"
   ]
  },
  {
   "cell_type": "code",
   "execution_count": null,
   "metadata": {},
   "outputs": [],
   "source": [
    "pred_svd_hyper = [svd_algo_hyper.predict(row.userId,\n",
    "                                         row.movieId) for idx,row in test.iterrows()]\n",
    "\n",
    "# Converting the predictions to a dataframe\n",
    "test_pred_svd_hyper = pd.DataFrame(pred_svd_hyper)"
   ]
  },
  {
   "cell_type": "code",
   "execution_count": null,
   "metadata": {},
   "outputs": [],
   "source": [
    "#renaming the fields of the prediction dataframe\n",
    "test_pred_svd_hyper.drop(['r_ui', 'details'], axis=1, inplace=True)\n",
    "test_pred_svd_hyper = test_pred_svd_hyper.rename(columns={'uid':'userId',\n",
    "                                                          'iid':'movieId',\n",
    "                                                          'est':'rating'})\n",
    "test_pred_svd_hyper.head()"
   ]
  },
  {
   "cell_type": "code",
   "execution_count": null,
   "metadata": {},
   "outputs": [],
   "source": [
    "# Concatenating each userId and movieId to a single Id column for submission\n",
    "test_pred_svd_hyper['Id'] =  test_pred_svd_hyper['userId'].astype(str).str.zfill(1) + '_' + test_pred_svd_hyper['movieId'].astype(str).str.zfill(1)"
   ]
  },
  {
   "cell_type": "code",
   "execution_count": null,
   "metadata": {},
   "outputs": [],
   "source": [
    "svd_hyper_predictions = test_pred_svd_hyper[['Id','rating']]\n",
    "svd_hyper_predictions.head()"
   ]
  },
  {
   "cell_type": "code",
   "execution_count": null,
   "metadata": {},
   "outputs": [],
   "source": []
  },
  {
   "cell_type": "code",
   "execution_count": null,
   "metadata": {},
   "outputs": [],
   "source": [
    "pickle.dump(model, open(save_path,'wb'))\n",
    "model_save_path = \"team2_unsupervised_recommender.pkl\"\n",
    "with open(model_save_path, 'wb') as file:\n",
    "    pickle.dump(svd_algo_hyper, file)"
   ]
  }
 ],
 "metadata": {
  "kernelspec": {
   "display_name": "Python 3 (ipykernel)",
   "language": "python",
   "name": "python3"
  },
  "language_info": {
   "codemirror_mode": {
    "name": "ipython",
    "version": 3
   },
   "file_extension": ".py",
   "mimetype": "text/x-python",
   "name": "python",
   "nbconvert_exporter": "python",
   "pygments_lexer": "ipython3",
   "version": "3.9.7"
  }
 },
 "nbformat": 4,
 "nbformat_minor": 4
}
